{
 "cells": [
  {
   "cell_type": "code",
   "execution_count": 1,
   "id": "endangered-support",
   "metadata": {},
   "outputs": [],
   "source": [
    "import pandas as pd\n",
    "import urllib.request"
   ]
  },
  {
   "cell_type": "code",
   "execution_count": 2,
   "id": "available-literacy",
   "metadata": {},
   "outputs": [],
   "source": [
    "steam = pd.read_csv('./archive/steam.csv')\n",
    "desc = pd.read_csv('./archive/steam_description_data.csv')\n",
    "images = pd.read_csv('./archive/steam_media_data.csv')"
   ]
  },
  {
   "cell_type": "code",
   "execution_count": 3,
   "id": "protective-bacon",
   "metadata": {},
   "outputs": [],
   "source": [
    "desc=desc.rename(columns={'steam_appid':'appid'})\n",
    "images=images.rename(columns={'steam_appid':'appid'})\n",
    "merged = pd.merge(pd.merge(steam, desc, on=[\"appid\"]), images, on=[\"appid\"])\n",
    "merged = merged[['appid', 'name', 'header_image', 'release_date', 'developer', 'platforms', 'owners', 'short_description']]\n",
    "popular = merged.sort_values(by='owners', ascending=False).head(500)"
   ]
  },
  {
   "cell_type": "code",
   "execution_count": 4,
   "id": "optimum-outreach",
   "metadata": {},
   "outputs": [],
   "source": [
    "# download images\n",
    "#for index, row in popular[['appid', 'header_image']].iterrows():\n",
    "#    urllib.request.urlretrieve(row['header_image'], './images/{id}.jpg'.format(id=row['appid']))\n",
    "popular = popular.drop(columns=['header_image', 'owners'])"
   ]
  },
  {
   "cell_type": "code",
   "execution_count": 5,
   "id": "musical-determination",
   "metadata": {},
   "outputs": [],
   "source": [
    "# save table\n",
    "#import csv\n",
    "#popular.to_csv('steam.csv', index=False, quotechar='\"', quoting=csv.QUOTE_NONE, escapechar='\\\\' )\n",
    "import json\n",
    "file = open(\"steam.json\",\"w\")\n",
    "result = popular.to_json(orient=\"records\")\n",
    "parsed = json.loads(result)\n",
    "file.write(json.dumps(parsed))\n",
    "file.close()"
   ]
  },
  {
   "cell_type": "code",
   "execution_count": null,
   "id": "taken-details",
   "metadata": {},
   "outputs": [],
   "source": []
  },
  {
   "cell_type": "code",
   "execution_count": null,
   "id": "owned-plenty",
   "metadata": {},
   "outputs": [],
   "source": []
  }
 ],
 "metadata": {
  "kernelspec": {
   "display_name": "Python 3",
   "language": "python",
   "name": "python3"
  },
  "language_info": {
   "codemirror_mode": {
    "name": "ipython",
    "version": 3
   },
   "file_extension": ".py",
   "mimetype": "text/x-python",
   "name": "python",
   "nbconvert_exporter": "python",
   "pygments_lexer": "ipython3",
   "version": "3.8.8"
  }
 },
 "nbformat": 4,
 "nbformat_minor": 5
}
